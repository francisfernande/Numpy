{
  "nbformat": 4,
  "nbformat_minor": 0,
  "metadata": {
    "colab": {
      "provenance": [],
      "authorship_tag": "ABX9TyNcqPWQ0+4byA5iIq/NPzgW",
      "include_colab_link": true
    },
    "kernelspec": {
      "name": "python3",
      "display_name": "Python 3"
    },
    "language_info": {
      "name": "python"
    }
  },
  "cells": [
    {
      "cell_type": "markdown",
      "metadata": {
        "id": "view-in-github",
        "colab_type": "text"
      },
      "source": [
        "<a href=\"https://colab.research.google.com/github/francisfernande/Numpy/blob/main/numpy_assignment.ipynb\" target=\"_parent\"><img src=\"https://colab.research.google.com/assets/colab-badge.svg\" alt=\"Open In Colab\"/></a>"
      ]
    },
    {
      "cell_type": "code",
      "execution_count": null,
      "metadata": {
        "id": "wIBE7k2FCAhL"
      },
      "outputs": [],
      "source": [
        "### Assignment 3: Array Operations\n",
        "\n",
        "1. Create two NumPy arrays of shape (3, 4) filled with random integers. Perform element-wise addition, subtraction, multiplication, and division.\n",
        "2. Create a NumPy array of shape (4, 4) with values from 1 to 16. Compute the row-wise and column-wise sum.\n",
        "\n",
        "### Assignment 4: Statistical Operations\n",
        "\n",
        "1. Create a NumPy array of shape (5, 5) filled with random integers. Compute the mean, median, standard deviation, and variance of the array.\n",
        "2. Create a NumPy array of shape (3, 3) with values from 1 to 9. Normalize the array (i.e., scale the values to have a mean of 0 and a standard deviation of 1).\n",
        "\n",
        "### Assignment 5: Broadcasting\n",
        "\n",
        "1. Create a NumPy array of shape (3, 3) filled with random integers. Add a 1D array of shape (3,) to each row of the 2D array using broadcasting.\n",
        "2. Create a NumPy array of shape (4, 4) filled with random integers. Subtract a 1D array of shape (4,) from each column of the 2D array using broadcasting.\n",
        "\n",
        "### Assignment 6: Linear Algebra\n",
        "\n",
        "1. Create a NumPy array of shape (3, 3) representing a matrix. Compute its determinant, inverse, and eigenvalues.\n",
        "2. Create two NumPy arrays of shape (2, 3) and (3, 2). Perform matrix multiplication on these arrays.\n",
        "\n",
        "### Assignment 7: Advanced Array Manipulation\n",
        "\n",
        "1. Create a NumPy array of shape (3, 3) with values from 1 to 9. Reshape the array to shape (1, 9) and then to shape (9, 1).\n",
        "2. Create a NumPy array of shape (5, 5) filled with random integers. Flatten the array and then reshape it back to (5, 5).\n",
        "\n",
        "### Assignment 8: Fancy Indexing and Boolean Indexing\n",
        "\n",
        "1. Create a NumPy array of shape (5, 5) filled with random integers. Use fancy indexing to extract the elements at the corners of the array.\n",
        "2. Create a NumPy array of shape (4, 4) filled with random integers. Use boolean indexing to set all elements greater than 10 to 10.\n",
        "\n",
        "### Assignment 9: Structured Arrays\n",
        "\n",
        "1. Create a structured array with fields 'name' (string), 'age' (integer), and 'weight' (float). Add some data and sort the array by age.\n",
        "2. Create a structured array with fields 'x' and 'y' (both integers). Add some data and compute the Euclidean distance between each pair of points.\n",
        "\n",
        "### Assignment 10: Masked Arrays\n",
        "\n",
        "1. Create a masked array of shape (4, 4) with random integers and mask the elements greater than 10. Compute the sum of the unmasked elements.\n",
        "2. Create a masked array of shape (3, 3) with random integers and mask the diagonal elements. Replace the masked elements with the mean of the unmasked elements."
      ]
    },
    {
      "cell_type": "code",
      "source": [
        "#1. Create a NumPy array of shape (5, 5) filled with random integers between 1 and 20. Replace all the elements in the third column with 1.\n",
        "\n",
        "\n",
        "import numpy as np\n",
        "arr1 = np.random.randint(1,20,size = (5,5))\n",
        "arr1"
      ],
      "metadata": {
        "colab": {
          "base_uri": "https://localhost:8080/"
        },
        "id": "NXelvO-ICDyJ",
        "outputId": "f3bd541b-2716-43e7-bbac-f08eff55a23c"
      },
      "execution_count": 15,
      "outputs": [
        {
          "output_type": "execute_result",
          "data": {
            "text/plain": [
              "array([[13,  1, 11,  6, 10],\n",
              "       [16, 15, 11,  8, 12],\n",
              "       [11,  3, 17, 16, 10],\n",
              "       [ 6,  2, 18,  8,  6],\n",
              "       [ 6,  5,  3, 10, 14]])"
            ]
          },
          "metadata": {},
          "execution_count": 15
        }
      ]
    },
    {
      "cell_type": "code",
      "source": [
        "arr1[:, 2] = 1\n",
        "arr1"
      ],
      "metadata": {
        "colab": {
          "base_uri": "https://localhost:8080/"
        },
        "id": "eZNo8V6aCD0i",
        "outputId": "bab08e10-872b-4f96-be65-c467546b5c31"
      },
      "execution_count": 14,
      "outputs": [
        {
          "output_type": "execute_result",
          "data": {
            "text/plain": [
              "array([[19, 14,  1, 19, 15],\n",
              "       [17, 19,  1, 11, 19],\n",
              "       [ 4,  8,  1, 11, 10],\n",
              "       [ 6, 14,  1, 11, 10],\n",
              "       [16, 16,  1,  9, 18]])"
            ]
          },
          "metadata": {},
          "execution_count": 14
        }
      ]
    },
    {
      "cell_type": "code",
      "source": [
        "##2. Create a NumPy array of shape (4, 4) with values from 1 to 16. Replace the diagonal elements with 0\n",
        "\n",
        "array = np.arange(1, 17).reshape((4, 4))\n",
        "array"
      ],
      "metadata": {
        "colab": {
          "base_uri": "https://localhost:8080/"
        },
        "id": "dkRFm_BeCD29",
        "outputId": "6a87e881-2d3d-42b0-9c39-79dad3873123"
      },
      "execution_count": 20,
      "outputs": [
        {
          "output_type": "execute_result",
          "data": {
            "text/plain": [
              "array([[ 1,  2,  3,  4],\n",
              "       [ 5,  6,  7,  8],\n",
              "       [ 9, 10, 11, 12],\n",
              "       [13, 14, 15, 16]])"
            ]
          },
          "metadata": {},
          "execution_count": 20
        }
      ]
    },
    {
      "cell_type": "code",
      "source": [
        "np.fill_diagonal(array,0)\n",
        "array"
      ],
      "metadata": {
        "colab": {
          "base_uri": "https://localhost:8080/"
        },
        "id": "l0X-5VYbCD46",
        "outputId": "65f153db-b18d-4b92-bfb2-3bf91ce26891"
      },
      "execution_count": 22,
      "outputs": [
        {
          "output_type": "execute_result",
          "data": {
            "text/plain": [
              "array([[ 0,  2,  3,  4],\n",
              "       [ 5,  0,  7,  8],\n",
              "       [ 9, 10,  0, 12],\n",
              "       [13, 14, 15,  0]])"
            ]
          },
          "metadata": {},
          "execution_count": 22
        }
      ]
    },
    {
      "cell_type": "code",
      "source": [
        "#. Create a NumPy array of shape (6, 6) with values from 1 to 36. Extract the sub-array consisting of the 3rd to 5th rows and 2nd to 4th columns.\n",
        "\n",
        "array = np.arange(1, 37).reshape((6, 6))\n",
        "array"
      ],
      "metadata": {
        "colab": {
          "base_uri": "https://localhost:8080/"
        },
        "id": "MjbwBbMIECWF",
        "outputId": "91ed485b-8804-4557-8cd7-1c27cf6886cf"
      },
      "execution_count": 24,
      "outputs": [
        {
          "output_type": "execute_result",
          "data": {
            "text/plain": [
              "array([[ 1,  2,  3,  4,  5,  6],\n",
              "       [ 7,  8,  9, 10, 11, 12],\n",
              "       [13, 14, 15, 16, 17, 18],\n",
              "       [19, 20, 21, 22, 23, 24],\n",
              "       [25, 26, 27, 28, 29, 30],\n",
              "       [31, 32, 33, 34, 35, 36]])"
            ]
          },
          "metadata": {},
          "execution_count": 24
        }
      ]
    },
    {
      "cell_type": "code",
      "source": [
        "array[2:5,1:4]"
      ],
      "metadata": {
        "colab": {
          "base_uri": "https://localhost:8080/"
        },
        "id": "Dty7p9fYEXDS",
        "outputId": "cd961905-4136-4cdb-cefc-c883b7f6d72b"
      },
      "execution_count": 27,
      "outputs": [
        {
          "output_type": "execute_result",
          "data": {
            "text/plain": [
              "array([[14, 15, 16],\n",
              "       [20, 21, 22],\n",
              "       [26, 27, 28]])"
            ]
          },
          "metadata": {},
          "execution_count": 27
        }
      ]
    },
    {
      "cell_type": "code",
      "source": [
        " #Create a NumPy array of shape (5, 5) with random integers. Extract the elements on the border.\n",
        " array = np.random.randint(1, 21, size=(5, 5))\n",
        " border_elements = np.concatenate((array[0, :], array[-1, :], array[1:-1, 0], array[1:-1, -1]))\n",
        " border_elements"
      ],
      "metadata": {
        "colab": {
          "base_uri": "https://localhost:8080/"
        },
        "id": "g4ZhfQLcEhs6",
        "outputId": "03bcdeb0-e07d-47b6-9d67-c0c4f2b139bc"
      },
      "execution_count": 28,
      "outputs": [
        {
          "output_type": "execute_result",
          "data": {
            "text/plain": [
              "array([18, 15, 15, 12,  1, 15, 17,  6, 18, 15,  2,  3, 19,  6, 18, 10])"
            ]
          },
          "metadata": {},
          "execution_count": 28
        }
      ]
    },
    {
      "cell_type": "code",
      "source": [
        "array"
      ],
      "metadata": {
        "colab": {
          "base_uri": "https://localhost:8080/"
        },
        "id": "a523kHNsE7wB",
        "outputId": "84610d31-4187-4077-a87b-c6bb9fbb598f"
      },
      "execution_count": 29,
      "outputs": [
        {
          "output_type": "execute_result",
          "data": {
            "text/plain": [
              "array([[18, 15, 15, 12,  1],\n",
              "       [ 2,  2,  2, 15,  6],\n",
              "       [ 3,  8,  8, 20, 18],\n",
              "       [19, 18,  2,  1, 10],\n",
              "       [15, 17,  6, 18, 15]])"
            ]
          },
          "metadata": {},
          "execution_count": 29
        }
      ]
    },
    {
      "cell_type": "code",
      "source": [],
      "metadata": {
        "id": "pD0RbSjiFADc"
      },
      "execution_count": null,
      "outputs": []
    }
  ]
}