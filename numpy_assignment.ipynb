{
  "nbformat": 4,
  "nbformat_minor": 0,
  "metadata": {
    "colab": {
      "provenance": [],
      "gpuType": "T4",
      "authorship_tag": "ABX9TyNbBU+e5RnDaEaMlE3a+/it",
      "include_colab_link": true
    },
    "kernelspec": {
      "name": "python3",
      "display_name": "Python 3"
    },
    "language_info": {
      "name": "python"
    }
  },
  "cells": [
    {
      "cell_type": "markdown",
      "metadata": {
        "id": "view-in-github",
        "colab_type": "text"
      },
      "source": [
        "<a href=\"https://colab.research.google.com/github/francisfernande/Numpy/blob/main/numpy_assignment.ipynb\" target=\"_parent\"><img src=\"https://colab.research.google.com/assets/colab-badge.svg\" alt=\"Open In Colab\"/></a>"
      ]
    },
    {
      "cell_type": "code",
      "source": [
        "#1. Create a NumPy array of shape (5, 5) filled with random integers between 1 and 20.\n",
        "#Replace all the elements in the third column with 1.\n",
        "\n",
        "\n",
        "import numpy as np\n",
        "arr1 = np.random.randint(1,20,size = (5,5))\n",
        "arr1"
      ],
      "metadata": {
        "colab": {
          "base_uri": "https://localhost:8080/"
        },
        "id": "NXelvO-ICDyJ",
        "outputId": "3c1968f3-bd26-4a5a-f08d-a4a4aeb383de"
      },
      "execution_count": 2,
      "outputs": [
        {
          "output_type": "execute_result",
          "data": {
            "text/plain": [
              "array([[ 2, 13, 13,  9, 13],\n",
              "       [ 7, 14, 14, 10,  4],\n",
              "       [ 7, 11,  8, 11,  8],\n",
              "       [ 7, 15,  6, 16,  6],\n",
              "       [19,  9,  1, 11,  6]])"
            ]
          },
          "metadata": {},
          "execution_count": 2
        }
      ]
    },
    {
      "cell_type": "code",
      "source": [
        "arr1[:, 2] = 1\n",
        "arr1"
      ],
      "metadata": {
        "colab": {
          "base_uri": "https://localhost:8080/"
        },
        "id": "eZNo8V6aCD0i",
        "outputId": "a534ee00-9024-4c66-bde1-a3e81358bf8b"
      },
      "execution_count": 3,
      "outputs": [
        {
          "output_type": "execute_result",
          "data": {
            "text/plain": [
              "array([[ 2, 13,  1,  9, 13],\n",
              "       [ 7, 14,  1, 10,  4],\n",
              "       [ 7, 11,  1, 11,  8],\n",
              "       [ 7, 15,  1, 16,  6],\n",
              "       [19,  9,  1, 11,  6]])"
            ]
          },
          "metadata": {},
          "execution_count": 3
        }
      ]
    },
    {
      "cell_type": "code",
      "source": [
        "##2. Create a NumPy array of shape (4, 4) with values from 1 to 16. Replace the diagonal elements with 0\n",
        "\n",
        "array = np.arange(1, 17).reshape((4, 4))\n",
        "array"
      ],
      "metadata": {
        "colab": {
          "base_uri": "https://localhost:8080/"
        },
        "id": "dkRFm_BeCD29",
        "outputId": "c2ae1c26-8518-48d9-e095-a4be53f4c2f9"
      },
      "execution_count": 4,
      "outputs": [
        {
          "output_type": "execute_result",
          "data": {
            "text/plain": [
              "array([[ 1,  2,  3,  4],\n",
              "       [ 5,  6,  7,  8],\n",
              "       [ 9, 10, 11, 12],\n",
              "       [13, 14, 15, 16]])"
            ]
          },
          "metadata": {},
          "execution_count": 4
        }
      ]
    },
    {
      "cell_type": "code",
      "source": [
        "np.fill_diagonal(array,0)\n",
        "array"
      ],
      "metadata": {
        "colab": {
          "base_uri": "https://localhost:8080/"
        },
        "id": "l0X-5VYbCD46",
        "outputId": "74c7134e-b148-4100-c239-194e9d22f828"
      },
      "execution_count": 5,
      "outputs": [
        {
          "output_type": "execute_result",
          "data": {
            "text/plain": [
              "array([[ 0,  2,  3,  4],\n",
              "       [ 5,  0,  7,  8],\n",
              "       [ 9, 10,  0, 12],\n",
              "       [13, 14, 15,  0]])"
            ]
          },
          "metadata": {},
          "execution_count": 5
        }
      ]
    },
    {
      "cell_type": "code",
      "source": [
        "#. Create a NumPy array of shape (6, 6) with values from 1 to 36. Extract the sub-array consisting of the 3rd to 5th rows and 2nd to 4th columns.\n",
        "\n",
        "array = np.arange(1, 37).reshape((6, 6))\n",
        "array"
      ],
      "metadata": {
        "colab": {
          "base_uri": "https://localhost:8080/"
        },
        "id": "MjbwBbMIECWF",
        "outputId": "d3d6880d-2ff5-4238-d3bc-80a84d738cec"
      },
      "execution_count": 6,
      "outputs": [
        {
          "output_type": "execute_result",
          "data": {
            "text/plain": [
              "array([[ 1,  2,  3,  4,  5,  6],\n",
              "       [ 7,  8,  9, 10, 11, 12],\n",
              "       [13, 14, 15, 16, 17, 18],\n",
              "       [19, 20, 21, 22, 23, 24],\n",
              "       [25, 26, 27, 28, 29, 30],\n",
              "       [31, 32, 33, 34, 35, 36]])"
            ]
          },
          "metadata": {},
          "execution_count": 6
        }
      ]
    },
    {
      "cell_type": "code",
      "source": [
        "array[2:5,1:4]"
      ],
      "metadata": {
        "colab": {
          "base_uri": "https://localhost:8080/"
        },
        "id": "Dty7p9fYEXDS",
        "outputId": "6a9039ae-c5a8-4754-955b-6b24603a6a5f"
      },
      "execution_count": 7,
      "outputs": [
        {
          "output_type": "execute_result",
          "data": {
            "text/plain": [
              "array([[14, 15, 16],\n",
              "       [20, 21, 22],\n",
              "       [26, 27, 28]])"
            ]
          },
          "metadata": {},
          "execution_count": 7
        }
      ]
    },
    {
      "cell_type": "code",
      "source": [
        " #Create a NumPy array of shape (5, 5) with random integers. Extract the elements on the border.\n",
        " array = np.random.randint(1, 21, size=(5, 5))\n",
        " border_elements = np.concatenate((array[0, :], array[-1, :], array[1:-1, 0], array[1:-1, -1]))\n",
        " border_elements"
      ],
      "metadata": {
        "colab": {
          "base_uri": "https://localhost:8080/"
        },
        "id": "g4ZhfQLcEhs6",
        "outputId": "074a25d2-e5c3-4353-a642-d7ae9fcbe496"
      },
      "execution_count": 8,
      "outputs": [
        {
          "output_type": "execute_result",
          "data": {
            "text/plain": [
              "array([15, 13, 18, 10,  4,  6,  9, 19,  2,  9,  3, 20, 20, 18, 20, 20])"
            ]
          },
          "metadata": {},
          "execution_count": 8
        }
      ]
    },
    {
      "cell_type": "code",
      "source": [
        "array"
      ],
      "metadata": {
        "colab": {
          "base_uri": "https://localhost:8080/"
        },
        "id": "a523kHNsE7wB",
        "outputId": "8c9a65ea-0c86-4ed6-b09e-19315c2bdd22"
      },
      "execution_count": 9,
      "outputs": [
        {
          "output_type": "execute_result",
          "data": {
            "text/plain": [
              "array([[15, 13, 18, 10,  4],\n",
              "       [ 3, 10, 14, 19, 18],\n",
              "       [20, 10,  2, 19, 20],\n",
              "       [20, 20,  3, 12, 20],\n",
              "       [ 6,  9, 19,  2,  9]])"
            ]
          },
          "metadata": {},
          "execution_count": 9
        }
      ]
    },
    {
      "cell_type": "code",
      "source": [
        "# Create two NumPy arrays of shape (3, 4) filled with random integers\n",
        "arr1 = np.random.randint(1,11,size=(4,3))\n",
        "arr2 = np.random.randint(1,11,size=(4,3))"
      ],
      "metadata": {
        "id": "pD0RbSjiFADc"
      },
      "execution_count": 10,
      "outputs": []
    },
    {
      "cell_type": "code",
      "source": [
        "# Perform element-wise operations\n",
        "add =arr1+arr2\n",
        "sub = arr1-arr2\n",
        "div = arr1/arr2\n",
        "multiply = arr1*arr2"
      ],
      "metadata": {
        "id": "kBDoV8uD89V0"
      },
      "execution_count": 11,
      "outputs": []
    },
    {
      "cell_type": "code",
      "source": [
        "add"
      ],
      "metadata": {
        "colab": {
          "base_uri": "https://localhost:8080/"
        },
        "id": "z8sWceaR9ark",
        "outputId": "86942a5c-9d78-485a-be47-78fb75e52cb0"
      },
      "execution_count": 12,
      "outputs": [
        {
          "output_type": "execute_result",
          "data": {
            "text/plain": [
              "array([[ 7,  3, 17],\n",
              "       [20, 13, 15],\n",
              "       [10,  8, 12],\n",
              "       [11, 20, 10]])"
            ]
          },
          "metadata": {},
          "execution_count": 12
        }
      ]
    },
    {
      "cell_type": "code",
      "source": [
        "#2. Create a NumPy array of shape (4, 4) with values from 1 to 16. Compute the row-wise and column-wise sum.\n",
        "array = np.arange(1,17).reshape((4,4))"
      ],
      "metadata": {
        "id": "_wJ5yL0A9cA-"
      },
      "execution_count": 13,
      "outputs": []
    },
    {
      "cell_type": "code",
      "source": [
        "array"
      ],
      "metadata": {
        "colab": {
          "base_uri": "https://localhost:8080/"
        },
        "id": "lY0KtRee9tsC",
        "outputId": "8300cc8b-4c1e-413c-f17e-18f40c6548d9"
      },
      "execution_count": 14,
      "outputs": [
        {
          "output_type": "execute_result",
          "data": {
            "text/plain": [
              "array([[ 1,  2,  3,  4],\n",
              "       [ 5,  6,  7,  8],\n",
              "       [ 9, 10, 11, 12],\n",
              "       [13, 14, 15, 16]])"
            ]
          },
          "metadata": {},
          "execution_count": 14
        }
      ]
    },
    {
      "cell_type": "code",
      "source": [
        "r = np.sum(array,axis=1)\n",
        "c = np.sum(array,axis=0)"
      ],
      "metadata": {
        "id": "T0zc3Jen9ubi"
      },
      "execution_count": 15,
      "outputs": []
    },
    {
      "cell_type": "code",
      "source": [
        "r"
      ],
      "metadata": {
        "colab": {
          "base_uri": "https://localhost:8080/"
        },
        "id": "nvL3BE8v91vL",
        "outputId": "3a1a172c-36ec-43c5-a1fa-8af023ec38bf"
      },
      "execution_count": 16,
      "outputs": [
        {
          "output_type": "execute_result",
          "data": {
            "text/plain": [
              "array([10, 26, 42, 58])"
            ]
          },
          "metadata": {},
          "execution_count": 16
        }
      ]
    },
    {
      "cell_type": "code",
      "source": [
        "c"
      ],
      "metadata": {
        "colab": {
          "base_uri": "https://localhost:8080/"
        },
        "id": "-jM4yFH4-EQf",
        "outputId": "48ca77f5-68ff-459c-c2c6-3e904699c6c5"
      },
      "execution_count": 17,
      "outputs": [
        {
          "output_type": "execute_result",
          "data": {
            "text/plain": [
              "array([28, 32, 36, 40])"
            ]
          },
          "metadata": {},
          "execution_count": 17
        }
      ]
    },
    {
      "cell_type": "code",
      "source": [
        "#Create a NumPy array of shape (5, 5) filled with random integers.\n",
        "#Compute the mean, median, standard deviation, and variance of the array."
      ],
      "metadata": {
        "id": "tzGSvHd_-Hhj"
      },
      "execution_count": 18,
      "outputs": []
    },
    {
      "cell_type": "code",
      "source": [
        "aray = np.random.randint(1,78,size=(5,5))\n",
        "print('original array')\n",
        "print(aray)\n"
      ],
      "metadata": {
        "colab": {
          "base_uri": "https://localhost:8080/"
        },
        "id": "yz1it7kCQcw-",
        "outputId": "eb6bfc1a-b866-4019-e59c-d67c2018f173"
      },
      "execution_count": 19,
      "outputs": [
        {
          "output_type": "stream",
          "name": "stdout",
          "text": [
            "original array\n",
            "[[49 28 71 39 64]\n",
            " [ 8 14 27 27 31]\n",
            " [28 20 35 34 59]\n",
            " [ 7  2 10 68 30]\n",
            " [75 19 44 41 48]]\n"
          ]
        }
      ]
    },
    {
      "cell_type": "code",
      "source": [
        "mean = np.mean(array)\n",
        "median = np.median(array)\n",
        "std_dev = np.std(array)\n",
        "variance = np.var(array)\n",
        "print(\"Mean:\", mean)\n",
        "print(\"Median:\", median)\n",
        "print(\"Standard Deviation:\", std_dev)\n",
        "print(\"Variance:\", variance)"
      ],
      "metadata": {
        "colab": {
          "base_uri": "https://localhost:8080/"
        },
        "id": "M-d09IpdQc02",
        "outputId": "e503da6f-4c12-4b11-8d19-7baaf25e8c4f"
      },
      "execution_count": 20,
      "outputs": [
        {
          "output_type": "stream",
          "name": "stdout",
          "text": [
            "Mean: 8.5\n",
            "Median: 8.5\n",
            "Standard Deviation: 4.6097722286464435\n",
            "Variance: 21.25\n"
          ]
        }
      ]
    },
    {
      "cell_type": "code",
      "source": [
        "# Create a NumPy array of shape (3, 3) with values from 1 to 9.\n",
        "#Normalize the array (i.e., scale the values to have a mean of 0 and a standard deviation of 1)."
      ],
      "metadata": {
        "id": "w1JPEPEdQc3R"
      },
      "execution_count": 21,
      "outputs": []
    },
    {
      "cell_type": "code",
      "source": [
        "ary = np.arange(1, 10).reshape((3, 3))\n",
        "print(\"Original array:\")\n",
        "print(ary)"
      ],
      "metadata": {
        "colab": {
          "base_uri": "https://localhost:8080/"
        },
        "id": "o4P18EeGQc5U",
        "outputId": "c0af8a99-5e87-4bce-ca69-b6d3ddd16248"
      },
      "execution_count": 22,
      "outputs": [
        {
          "output_type": "stream",
          "name": "stdout",
          "text": [
            "Original array:\n",
            "[[1 2 3]\n",
            " [4 5 6]\n",
            " [7 8 9]]\n"
          ]
        }
      ]
    },
    {
      "cell_type": "code",
      "source": [
        "mean = np.mean(ary)\n",
        "std_dev = np.std(ary)\n",
        "normalized_array = (ary - mean) / std_dev\n",
        "\n",
        "print(\"Normalized array:\")\n",
        "print(normalized_array)"
      ],
      "metadata": {
        "colab": {
          "base_uri": "https://localhost:8080/"
        },
        "id": "YJgywxRPQc71",
        "outputId": "06c2a714-13a0-44e1-c1bc-351f4205465f"
      },
      "execution_count": 23,
      "outputs": [
        {
          "output_type": "stream",
          "name": "stdout",
          "text": [
            "Normalized array:\n",
            "[[-1.54919334 -1.161895   -0.77459667]\n",
            " [-0.38729833  0.          0.38729833]\n",
            " [ 0.77459667  1.161895    1.54919334]]\n"
          ]
        }
      ]
    },
    {
      "cell_type": "code",
      "source": [
        "#Create a NumPy array of shape (3, 3) filled with random integers.\n",
        "#Add a 1D array of shape (3,) to each row of the 2D array using broadcasting."
      ],
      "metadata": {
        "id": "sw1zw5BNQc-P"
      },
      "execution_count": 24,
      "outputs": []
    },
    {
      "cell_type": "code",
      "source": [
        "array = np.random.randint(1, 11, size=(3, 3))\n",
        "row_array = np.random.randint(1, 11, size=(3,))\n",
        "print(\"Original array:\")\n",
        "print(array)\n",
        "print(\"1D array:\")\n",
        "print(row_array)"
      ],
      "metadata": {
        "colab": {
          "base_uri": "https://localhost:8080/"
        },
        "id": "QIZdar7lQdAp",
        "outputId": "1eff8f1e-5971-46bc-e1ce-4e73696757ce"
      },
      "execution_count": 25,
      "outputs": [
        {
          "output_type": "stream",
          "name": "stdout",
          "text": [
            "Original array:\n",
            "[[5 7 9]\n",
            " [3 1 5]\n",
            " [1 5 4]]\n",
            "1D array:\n",
            "[6 7 3]\n"
          ]
        }
      ]
    },
    {
      "cell_type": "code",
      "source": [
        "result = array + row_array\n",
        "print(\"Resulting array:\")\n",
        "print(result)"
      ],
      "metadata": {
        "colab": {
          "base_uri": "https://localhost:8080/"
        },
        "id": "geU7aWccQdC9",
        "outputId": "c5900ec8-df4c-4081-a4ec-894575a6ab31"
      },
      "execution_count": 26,
      "outputs": [
        {
          "output_type": "stream",
          "name": "stdout",
          "text": [
            "Resulting array:\n",
            "[[11 14 12]\n",
            " [ 9  8  8]\n",
            " [ 7 12  7]]\n"
          ]
        }
      ]
    },
    {
      "cell_type": "code",
      "source": [
        "#Create a NumPy array of shape (3, 3) representing a matrix.\n",
        "#Compute its determinant, inverse, and eigenvalues."
      ],
      "metadata": {
        "id": "hMUQnDppQdFI"
      },
      "execution_count": 27,
      "outputs": []
    },
    {
      "cell_type": "code",
      "source": [
        "matrix = np.random.randint(1, 11, size=(3, 3))\n",
        "print(\"Original matrix:\")\n",
        "print(matrix)"
      ],
      "metadata": {
        "colab": {
          "base_uri": "https://localhost:8080/"
        },
        "id": "pJhXUwllSFtx",
        "outputId": "5c480a59-008e-49be-f6fd-3bf47e6a51e5"
      },
      "execution_count": 28,
      "outputs": [
        {
          "output_type": "stream",
          "name": "stdout",
          "text": [
            "Original matrix:\n",
            "[[9 6 6]\n",
            " [1 3 8]\n",
            " [4 6 4]]\n"
          ]
        }
      ]
    },
    {
      "cell_type": "code",
      "source": [
        "determinant = np.linalg.det(matrix)\n",
        "print(\"Determinant:\", determinant)"
      ],
      "metadata": {
        "colab": {
          "base_uri": "https://localhost:8080/"
        },
        "id": "483Ly2amSGCr",
        "outputId": "8f2c46b0-32a6-4e1d-f92c-506a27d3fec0"
      },
      "execution_count": 29,
      "outputs": [
        {
          "output_type": "stream",
          "name": "stdout",
          "text": [
            "Determinant: -192.00000000000017\n"
          ]
        }
      ]
    },
    {
      "cell_type": "code",
      "source": [
        "inverse = np.linalg.inv(matrix)\n",
        "print(\"Inverse:\")\n",
        "print(inverse)"
      ],
      "metadata": {
        "colab": {
          "base_uri": "https://localhost:8080/"
        },
        "id": "8KL5N06RSGFA",
        "outputId": "3e27a41c-38ec-40b8-e814-2bb692fc0860"
      },
      "execution_count": 30,
      "outputs": [
        {
          "output_type": "stream",
          "name": "stdout",
          "text": [
            "Inverse:\n",
            "[[ 0.1875     -0.0625     -0.15625   ]\n",
            " [-0.14583333 -0.0625      0.34375   ]\n",
            " [ 0.03125     0.15625    -0.109375  ]]\n"
          ]
        }
      ]
    },
    {
      "cell_type": "code",
      "source": [
        "eigenvalues = np.linalg.eigvals(matrix)\n",
        "print(\"Eigenvalues:\", eigenvalues)"
      ],
      "metadata": {
        "colab": {
          "base_uri": "https://localhost:8080/"
        },
        "id": "LorEx8JESGHe",
        "outputId": "44d99c39-bede-46b5-906c-1ecfb22fc782"
      },
      "execution_count": 31,
      "outputs": [
        {
          "output_type": "stream",
          "name": "stdout",
          "text": [
            "Eigenvalues: [15.3837166   3.85436228 -3.23807889]\n"
          ]
        }
      ]
    },
    {
      "cell_type": "code",
      "source": [
        "#Create two NumPy arrays of shape (2, 3) and (3, 2). Perform matrix multiplication on these arrays."
      ],
      "metadata": {
        "id": "s1bhoJF8SGJ2"
      },
      "execution_count": 32,
      "outputs": []
    },
    {
      "cell_type": "code",
      "source": [
        "ar1 = np.random.randint(1,11,size=(2,3))\n",
        "ar2 = np.random.randint(1,11,size=(3,2))\n",
        "\n",
        "print(\"Array 1:\")\n",
        "print(ar1)\n",
        "print(\"Array 2:\")\n",
        "print(ar2)"
      ],
      "metadata": {
        "colab": {
          "base_uri": "https://localhost:8080/"
        },
        "id": "XvikQCXAqrob",
        "outputId": "1a33768b-c151-40bf-c252-b01d62546fe3"
      },
      "execution_count": 33,
      "outputs": [
        {
          "output_type": "stream",
          "name": "stdout",
          "text": [
            "Array 1:\n",
            "[[7 8 5]\n",
            " [4 9 6]]\n",
            "Array 2:\n",
            "[[ 1 10]\n",
            " [ 5  8]\n",
            " [ 5  3]]\n"
          ]
        }
      ]
    },
    {
      "cell_type": "code",
      "source": [
        "result = np.dot(ar1, ar2)\n",
        "result"
      ],
      "metadata": {
        "colab": {
          "base_uri": "https://localhost:8080/"
        },
        "id": "vhd3Pc9eqrq-",
        "outputId": "20854718-21b2-43b4-d876-9e50c3b37940"
      },
      "execution_count": 34,
      "outputs": [
        {
          "output_type": "execute_result",
          "data": {
            "text/plain": [
              "array([[ 72, 149],\n",
              "       [ 79, 130]])"
            ]
          },
          "metadata": {},
          "execution_count": 34
        }
      ]
    },
    {
      "cell_type": "code",
      "source": [
        "#Create a NumPy array of shape (3, 3) with values from 1 to 9.\n",
        "#Reshape the array to shape (1, 9) and then to shape (9, 1)."
      ],
      "metadata": {
        "id": "wcH7eslFqrtd"
      },
      "execution_count": 35,
      "outputs": []
    },
    {
      "cell_type": "code",
      "source": [
        "ary = np.arange(1,10).reshape((3,3))\n",
        "ary"
      ],
      "metadata": {
        "colab": {
          "base_uri": "https://localhost:8080/"
        },
        "id": "8RF6rN_EqrwK",
        "outputId": "08e7315f-1da1-4fec-985b-0be4f56980a4"
      },
      "execution_count": 36,
      "outputs": [
        {
          "output_type": "execute_result",
          "data": {
            "text/plain": [
              "array([[1, 2, 3],\n",
              "       [4, 5, 6],\n",
              "       [7, 8, 9]])"
            ]
          },
          "metadata": {},
          "execution_count": 36
        }
      ]
    },
    {
      "cell_type": "code",
      "source": [
        "new_ary = ary.reshape((1,9))\n",
        "new_ary"
      ],
      "metadata": {
        "id": "4NaZBIanSGMR",
        "colab": {
          "base_uri": "https://localhost:8080/"
        },
        "outputId": "a748524a-0efd-4307-ae27-9328e3d54398"
      },
      "execution_count": 37,
      "outputs": [
        {
          "output_type": "execute_result",
          "data": {
            "text/plain": [
              "array([[1, 2, 3, 4, 5, 6, 7, 8, 9]])"
            ]
          },
          "metadata": {},
          "execution_count": 37
        }
      ]
    },
    {
      "cell_type": "code",
      "source": [
        "latest_ary = new_ary.reshape((9,1))\n",
        "latest_ary"
      ],
      "metadata": {
        "id": "LtV_I8utSGOn",
        "colab": {
          "base_uri": "https://localhost:8080/"
        },
        "outputId": "0218284f-0fdc-44d2-90a9-0dad749292f3"
      },
      "execution_count": 38,
      "outputs": [
        {
          "output_type": "execute_result",
          "data": {
            "text/plain": [
              "array([[1],\n",
              "       [2],\n",
              "       [3],\n",
              "       [4],\n",
              "       [5],\n",
              "       [6],\n",
              "       [7],\n",
              "       [8],\n",
              "       [9]])"
            ]
          },
          "metadata": {},
          "execution_count": 38
        }
      ]
    },
    {
      "cell_type": "code",
      "source": [
        "#Create a NumPy array of shape (5, 5) filled with random integers.\n",
        "#Flatten the array and then reshape it back to (5, 5)."
      ],
      "metadata": {
        "id": "5ahwpRW1sEoP"
      },
      "execution_count": 39,
      "outputs": []
    },
    {
      "cell_type": "code",
      "source": [
        "array = np.random.randint(1, 21, size=(5, 5))\n",
        "print(\"Original array:\")\n",
        "print(array)"
      ],
      "metadata": {
        "colab": {
          "base_uri": "https://localhost:8080/"
        },
        "id": "KPrqZvX2sNfe",
        "outputId": "4527d971-f387-443b-9fbc-dd44643d00ca"
      },
      "execution_count": 40,
      "outputs": [
        {
          "output_type": "stream",
          "name": "stdout",
          "text": [
            "Original array:\n",
            "[[12 12  8 12 13]\n",
            " [10  6 18  8 13]\n",
            " [14 11  7 13 16]\n",
            " [ 8  4 17  2 10]\n",
            " [12 14 17  9 15]]\n"
          ]
        }
      ]
    },
    {
      "cell_type": "code",
      "source": [
        "flattened_array = array.flatten()\n",
        "print(\"Flattened array:\")\n",
        "print(flattened_array)"
      ],
      "metadata": {
        "colab": {
          "base_uri": "https://localhost:8080/"
        },
        "id": "MwQjTPkKsN6U",
        "outputId": "c9ab33d2-288f-4d5a-fb9d-abaf7853ae45"
      },
      "execution_count": 41,
      "outputs": [
        {
          "output_type": "stream",
          "name": "stdout",
          "text": [
            "Flattened array:\n",
            "[12 12  8 12 13 10  6 18  8 13 14 11  7 13 16  8  4 17  2 10 12 14 17  9\n",
            " 15]\n"
          ]
        }
      ]
    },
    {
      "cell_type": "code",
      "source": [
        "reshaped_array = flattened_array.reshape((5, 5))\n",
        "print(\"Reshaped array:\")\n",
        "print(reshaped_array)"
      ],
      "metadata": {
        "colab": {
          "base_uri": "https://localhost:8080/"
        },
        "id": "WAS8N18GsN8i",
        "outputId": "5fbfc4c6-4185-470f-a3d4-b5cda3c943c3"
      },
      "execution_count": 42,
      "outputs": [
        {
          "output_type": "stream",
          "name": "stdout",
          "text": [
            "Reshaped array:\n",
            "[[12 12  8 12 13]\n",
            " [10  6 18  8 13]\n",
            " [14 11  7 13 16]\n",
            " [ 8  4 17  2 10]\n",
            " [12 14 17  9 15]]\n"
          ]
        }
      ]
    },
    {
      "cell_type": "code",
      "source": [
        "# Create a NumPy array of shape (5, 5) filled with random integers\n",
        "array = np.random.randint(1, 21, size=(5, 5))\n",
        "print(\"Original array:\")\n",
        "print(array)\n",
        "\n",
        "# Use fancy indexing to extract the elements at the corners of the array\n",
        "corners = array[[0, 0, -1, -1], [0, -1, 0, -1]]\n",
        "print(\"Corner elements:\")\n",
        "print(corners)"
      ],
      "metadata": {
        "colab": {
          "base_uri": "https://localhost:8080/"
        },
        "id": "8uzAAltzsN-6",
        "outputId": "76007d6f-4a70-474d-ece9-aba9d4376ea4"
      },
      "execution_count": 43,
      "outputs": [
        {
          "output_type": "stream",
          "name": "stdout",
          "text": [
            "Original array:\n",
            "[[ 7 17 17 20 20]\n",
            " [17  1  4  3 14]\n",
            " [10 17 10 10 20]\n",
            " [10 17 13  9  2]\n",
            " [ 4  2  6 20 14]]\n",
            "Corner elements:\n",
            "[ 7 20  4 14]\n"
          ]
        }
      ]
    },
    {
      "cell_type": "code",
      "source": [
        "array = np.random.randint(1, 21, size=(4, 4))\n",
        "print(\"Original array:\")\n",
        "print(array)\n",
        "\n",
        "# Use boolean indexing to set all elements less than 10 to 10\n",
        "array[array < 10] = 10\n",
        "print(\"Modified array:\")\n",
        "print(array)"
      ],
      "metadata": {
        "colab": {
          "base_uri": "https://localhost:8080/"
        },
        "id": "cUwcCtY7sOBT",
        "outputId": "14805c2c-87fc-459a-e7bd-c516ed2e2f9d"
      },
      "execution_count": 44,
      "outputs": [
        {
          "output_type": "stream",
          "name": "stdout",
          "text": [
            "Original array:\n",
            "[[15 15  5 14]\n",
            " [ 7  2 18 15]\n",
            " [16 11 10 12]\n",
            " [16  1 12 17]]\n",
            "Modified array:\n",
            "[[15 15 10 14]\n",
            " [10 10 18 15]\n",
            " [16 11 10 12]\n",
            " [16 10 12 17]]\n"
          ]
        }
      ]
    },
    {
      "cell_type": "code",
      "source": [
        "# Create a structured array with fields 'name', 'age', and 'weight'\n",
        "data_type = [('name', 'U10'), ('age', 'i4'), ('weight', 'f4')]\n",
        "data = np.array([('Alice', 25, 55.5), ('Bob', 30, 85.3), ('Charlie', 20, 65.2)], dtype=data_type)\n",
        "print(\"Original array:\")\n",
        "print(data)\n",
        "\n",
        "# Sort the array by age\n",
        "sorted_data = np.sort(data, order='age')\n",
        "print(\"Sorted array by age:\")\n",
        "print(sorted_data)"
      ],
      "metadata": {
        "colab": {
          "base_uri": "https://localhost:8080/"
        },
        "id": "fS966ujHsODm",
        "outputId": "215760dc-2ac2-43e5-811a-ac4a57a291cc"
      },
      "execution_count": 46,
      "outputs": [
        {
          "output_type": "stream",
          "name": "stdout",
          "text": [
            "Original array:\n",
            "[('Alice', 25, 55.5) ('Bob', 30, 85.3) ('Charlie', 20, 65.2)]\n",
            "Sorted array by age:\n",
            "[('Charlie', 20, 65.2) ('Alice', 25, 55.5) ('Bob', 30, 85.3)]\n"
          ]
        }
      ]
    },
    {
      "cell_type": "code",
      "source": [],
      "metadata": {
        "id": "WJjNnNMqsOFz"
      },
      "execution_count": 45,
      "outputs": []
    }
  ]
}